{
  "nbformat": 4,
  "nbformat_minor": 0,
  "metadata": {
    "colab": {
      "name": "Untitled0.ipynb",
      "provenance": [],
      "collapsed_sections": []
    },
    "kernelspec": {
      "name": "python3",
      "display_name": "Python 3"
    },
    "language_info": {
      "name": "python"
    }
  },
  "cells": [
    {
      "cell_type": "markdown",
      "source": [
        "Самостоятельное задание №5\n"
      ],
      "metadata": {
        "id": "pKIW92IcSWam"
      }
    },
    {
      "cell_type": "markdown",
      "source": [
        "Задание 1.\n",
        "\n",
        "Допишите функцию, которая принимает список, выбирает из него все элементы с четным индексом и возвращает их в виде списка."
      ],
      "metadata": {
        "id": "EfWYEkK2VjBW"
      }
    },
    {
      "cell_type": "code",
      "source": [
        "def g(b):\n",
        "    for i in range(len(b)):\n",
        "        if i % 2 == 1:\n",
        "            x = b[i]\n",
        "            a.append(x)\n",
        "    return a\n",
        "b = [1,2,3,4,5,6,7,8,9]\n",
        "a = list()\n",
        "print(g(b))"
      ],
      "metadata": {
        "colab": {
          "base_uri": "https://localhost:8080/"
        },
        "id": "vQW24KSBVkOK",
        "outputId": "d3e4a3b4-37f2-43eb-fa89-691536a84cd8"
      },
      "execution_count": 29,
      "outputs": [
        {
          "output_type": "stream",
          "name": "stdout",
          "text": [
            "[2, 4, 6, 8]\n"
          ]
        }
      ]
    },
    {
      "cell_type": "markdown",
      "source": [
        "Задание 2.\n",
        "\n",
        "Допишите функцию, которая принимает список, выбирает из него все элементы, которые больше предыдущего и возвращает их в виде списка."
      ],
      "metadata": {
        "id": "dmNaCuXDVwmi"
      }
    },
    {
      "cell_type": "code",
      "source": [
        "def f(a):\n",
        "    for i in range(len(a)):\n",
        "        if a[i] > a[i-1]:\n",
        "            y = a[i]\n",
        "            c.append(y)\n",
        "    return c\n",
        "a = [1,2,6,7,52,1,6]\n",
        "c = list()\n",
        "print(f(a))"
      ],
      "metadata": {
        "colab": {
          "base_uri": "https://localhost:8080/"
        },
        "id": "lF2ink1MVz97",
        "outputId": "e1f8ea18-e57a-42ee-8281-ba7028dacc8a"
      },
      "execution_count": 28,
      "outputs": [
        {
          "output_type": "stream",
          "name": "stdout",
          "text": [
            "[2, 6, 7, 52, 6]\n"
          ]
        }
      ]
    },
    {
      "cell_type": "markdown",
      "source": [
        "Задание 3.\n",
        "\n",
        "Допишите функцию, которая принимает список, меняет местами наибольший и наименьший элементы и возвращает этот список."
      ],
      "metadata": {
        "id": "Jl2Ln72dWBHh"
      }
    },
    {
      "cell_type": "code",
      "source": [
        "def d(a):\n",
        "    min1 = min(a)\n",
        "    max1 = max(a)\n",
        "    n = 0\n",
        "    p= 0 \n",
        "    for i in range(len(a)):\n",
        "        if a[i] == min1:\n",
        "            n = i\n",
        "        elif a[i] == max1:\n",
        "            p = i\n",
        "    a[n] = max1\n",
        "    a[p] = min1\n",
        "    return a\n",
        "a = [1,2,3,3,4,5,6,7,6,99999999]\n",
        "print(d(a))"
      ],
      "metadata": {
        "colab": {
          "base_uri": "https://localhost:8080/"
        },
        "id": "0CI8WPSaWFp9",
        "outputId": "0fd7083e-97ee-4445-80ca-20e15cb3cd84"
      },
      "execution_count": 30,
      "outputs": [
        {
          "output_type": "stream",
          "name": "stdout",
          "text": [
            "[99999999, 2, 3, 3, 4, 5, 6, 7, 6, 1]\n"
          ]
        }
      ]
    }
  ]
}