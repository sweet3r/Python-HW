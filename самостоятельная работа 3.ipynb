{
  "nbformat": 4,
  "nbformat_minor": 5,
  "metadata": {
    "kernelspec": {
      "display_name": "Python 3",
      "language": "python",
      "name": "python3"
    },
    "language_info": {
      "codemirror_mode": {
        "name": "ipython",
        "version": 3
      },
      "file_extension": ".py",
      "mimetype": "text/x-python",
      "name": "python",
      "nbconvert_exporter": "python",
      "pygments_lexer": "ipython3",
      "version": "3.9.7"
    },
    "colab": {
      "name": "Копия блокнота \"3_task.ipynb\"",
      "provenance": []
    }
  },
  "cells": [
    {
      "cell_type": "markdown",
      "metadata": {
        "id": "657be689"
      },
      "source": [
        "# Самостоятельное задание #3\n",
        "\n",
        "\n",
        "### Задание 1\n",
        "\n",
        "Допишите функцию, которая принимает массив из 10 чисел и возвращает их сумму."
      ],
      "id": "657be689"
    },
    {
      "cell_type": "code",
      "metadata": {
        "id": "18ffcbab"
      },
      "source": [
        "def _sum(a):\n",
        "    s = 0\n",
        "    for i in a:\n",
        "        s += i\n",
        "    return s"
      ],
      "id": "18ffcbab",
      "execution_count": null,
      "outputs": []
    },
    {
      "cell_type": "markdown",
      "metadata": {
        "id": "eb78afc0"
      },
      "source": [
        "\n",
        "### Задание 2\n",
        "\n",
        "Допишите функцию, которая принимает массив чисел и возвращает количество чисел равных нулю."
      ],
      "id": "eb78afc0"
    },
    {
      "cell_type": "code",
      "metadata": {
        "id": "7e8fe536"
      },
      "source": [
        "def zero_func(array):\n",
        "    s = 0\n",
        "    for i in array:\n",
        "        if i == 0:\n",
        "            s+=1\n",
        "    return s"
      ],
      "id": "7e8fe536",
      "execution_count": null,
      "outputs": []
    },
    {
      "cell_type": "markdown",
      "metadata": {
        "id": "570d5a26"
      },
      "source": [
        "\n",
        "### Задание 3\n",
        "\n",
        "Напишите программу, в которой задается  натуральное число n и выводится лестница из n ступенек, i-я ступенька должна состоять из чисел от 1 до i без пробелов."
      ],
      "id": "570d5a26"
    },
    {
      "cell_type": "code",
      "metadata": {
        "colab": {
          "base_uri": "https://localhost:8080/"
        },
        "id": "A7IOPhyVtB2x",
        "outputId": "b177d481-b707-4d28-a196-73862d2c5f83"
      },
      "source": [
        "n = input()\n",
        "for i in range(2, 4+1):\n",
        "    print(''.join([str(x) for x in range(1,i)]))"
      ],
      "id": "A7IOPhyVtB2x",
      "execution_count": 6,
      "outputs": [
        {
          "output_type": "stream",
          "name": "stdout",
          "text": [
            "4\n",
            "1\n",
            "12\n",
            "123\n"
          ]
        }
      ]
    },
    {
      "cell_type": "markdown",
      "metadata": {
        "id": "b6ef1c44"
      },
      "source": [
        "\n",
        "### Задание 4\n",
        "\n",
        "Напишите программу, в которой задается натуральное число n и выводится пирамида из n ступенек, i-я ступень должна состоять из чисел от 1 до i и обратно без пробелов."
      ],
      "id": "b6ef1c44"
    },
    {
      "cell_type": "code",
      "metadata": {
        "id": "NPXAR8m0tLNE"
      },
      "source": [
        ""
      ],
      "id": "NPXAR8m0tLNE",
      "execution_count": null,
      "outputs": []
    },
    {
      "cell_type": "markdown",
      "metadata": {
        "id": "b4552ef5"
      },
      "source": [
        "\n",
        "### Задание 5\n",
        "\n",
        "Напишите программу, в которой задается натуральное число n и выводится ромб из `n*2-1` ступенек, i-я ступень должна состоять из чисел от 1 до i и обратно без пробелов."
      ],
      "id": "b4552ef5"
    },
    {
      "cell_type": "code",
      "metadata": {
        "id": "5eaae897"
      },
      "source": [
        "# Начните писать код тут"
      ],
      "id": "5eaae897",
      "execution_count": null,
      "outputs": []
    }
  ]
}