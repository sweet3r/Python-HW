{
  "nbformat": 4,
  "nbformat_minor": 0,
  "metadata": {
    "colab": {
      "name": "Untitled0.ipynb",
      "provenance": [],
      "collapsed_sections": []
    },
    "kernelspec": {
      "name": "python3",
      "display_name": "Python 3"
    },
    "language_info": {
      "name": "python"
    }
  },
  "cells": [
    {
      "cell_type": "markdown",
      "source": [
        "Написать калькулятор для вычисления дискриминанта. На вход подаются коэффициенты квадратного уравнения, выход - значение дискриминанта.\n"
      ],
      "metadata": {
        "id": "93oCW3eG-dax"
      }
    },
    {
      "cell_type": "code",
      "source": [
        "a = int(input())\n",
        "b = int(input())\n",
        "c = int(input())\n",
        "d = b**2 - 4*a*c\n",
        "d = d**0.5\n",
        "print (d)\n"
      ],
      "metadata": {
        "colab": {
          "base_uri": "https://localhost:8080/"
        },
        "id": "qrHTurSSsa73",
        "outputId": "9913b8c6-d123-4806-85d5-41ecfdd0519c"
      },
      "execution_count": null,
      "outputs": [
        {
          "output_type": "stream",
          "name": "stdout",
          "text": [
            "-4\n",
            "10\n",
            "4\n",
            "12.806248474865697\n"
          ]
        }
      ]
    },
    {
      "cell_type": "markdown",
      "source": [
        "По данному целому числу N распечатайте все квадраты натуральных чисел, не превосходящие N, в порядке возрастания.\n"
      ],
      "metadata": {
        "id": "awJ9ZFzZuXDm"
      }
    },
    {
      "cell_type": "code",
      "source": [
        "N = int(input())\n",
        "a = 1 \n",
        "b = 0 \n",
        "while b <= N :  \n",
        "      a+=1 \n",
        "      print (b)\n",
        "      b =a**2\n",
        "\n"
      ],
      "metadata": {
        "colab": {
          "base_uri": "https://localhost:8080/"
        },
        "id": "Blr-794NuoDX",
        "outputId": "b37461a2-d0a1-4867-c7c5-b0549073aa94"
      },
      "execution_count": null,
      "outputs": [
        {
          "output_type": "stream",
          "name": "stdout",
          "text": [
            "40\n",
            "0\n",
            "4\n",
            "9\n",
            "16\n",
            "25\n",
            "36\n"
          ]
        }
      ]
    },
    {
      "cell_type": "markdown",
      "source": [
        "Дано целое число, не меньшее 2. Выведите его наименьший натуральный делитель, отличный от 1"
      ],
      "metadata": {
        "id": "Scs-w-8B9j5B"
      }
    },
    {
      "cell_type": "code",
      "source": [
        "n = int(input())\n",
        "for i in range(2, n+1):\n",
        " if n%i==0:\n",
        "  print(i)\n",
        "  break\n",
        "  "
      ],
      "metadata": {
        "colab": {
          "base_uri": "https://localhost:8080/"
        },
        "id": "MKm-550i9qQa",
        "outputId": "665142fc-141f-4a8f-b380-461cfb8176b2"
      },
      "execution_count": null,
      "outputs": [
        {
          "output_type": "stream",
          "name": "stdout",
          "text": [
            "40\n",
            "2\n"
          ]
        }
      ]
    },
    {
      "cell_type": "markdown",
      "source": [
        "Выведите все четные элементы списка. При этом используйте цикл for, перебирающий элементы списка, а не их индексы!\n"
      ],
      "metadata": {
        "id": "TgVVSOF5rbO1"
      }
    },
    {
      "cell_type": "code",
      "source": [
        "array = [4,5,2,5,7,4,9,0,5,1]\n",
        "nums=array\n",
        "nums_2=[]\n",
        "for i in range(len(nums)):\n",
        "    if nums[i]%2==0:\n",
        "        print(nums[i])"
      ],
      "metadata": {
        "colab": {
          "base_uri": "https://localhost:8080/"
        },
        "id": "3j6-POQc9vRR",
        "outputId": "cbf1c489-7bde-4fb2-907e-05fdc181205d"
      },
      "execution_count": 2,
      "outputs": [
        {
          "output_type": "stream",
          "name": "stdout",
          "text": [
            "4\n",
            "2\n",
            "4\n",
            "0\n"
          ]
        }
      ]
    },
    {
      "cell_type": "markdown",
      "source": [
        "Выведите все элементы списка с четными индексами (то есть A[0], A[2], A[4], ...).\n"
      ],
      "metadata": {
        "id": "AYP7EF0xCu9D"
      }
    },
    {
      "cell_type": "code",
      "source": [
        "array = [3,5,4,2,1,3,6,8,8,6,0]\n",
        "nums=array\n",
        "for i in range(0, len(nums), 2):\n",
        "    print(nums[i])"
      ],
      "metadata": {
        "colab": {
          "base_uri": "https://localhost:8080/"
        },
        "id": "Qif2u1_LCxpw",
        "outputId": "d4651e04-f07d-4179-c0cd-afc318c2f969"
      },
      "execution_count": 3,
      "outputs": [
        {
          "output_type": "stream",
          "name": "stdout",
          "text": [
            "3\n",
            "4\n",
            "1\n",
            "6\n",
            "8\n",
            "0\n"
          ]
        }
      ]
    },
    {
      "cell_type": "markdown",
      "source": [
        "Дан список чисел. Если в нем есть два соседних элемента одного знака, выведите эти числа. Если соседних элементов одного знака нет — не выводите ничего. Если таких пар соседей несколько — выведите первую пару.\n"
      ],
      "metadata": {
        "id": "p6CK-CKlC-e2"
      }
    },
    {
      "cell_type": "code",
      "source": [
        "array = [9,-1,3,-5,6,-10,5,-5]\n",
        "nums=array\n",
        "for i in range(1,len(nums)):\n",
        "    if nums[i]*nums[i-1]>0:\n",
        "        print(nums[i],nums[i-1])\n",
        "        break\n",
        "      "
      ],
      "metadata": {
        "id": "OSuQPmD1Do10"
      },
      "execution_count": 7,
      "outputs": []
    },
    {
      "cell_type": "markdown",
      "source": [
        "Последовательность состоит из натуральных чисел и завершается числом 0. Определите, сколько элементов этой последовательности больше предыдущего элемента.\n"
      ],
      "metadata": {
        "id": "kAlC6EBNEiNj"
      }
    },
    {
      "cell_type": "code",
      "source": [
        "array = [5,8,3,6,2,9,1,13,0]\n",
        "nums=array\n",
        "n=0\n",
        "for i in range(1,len(nums)):\n",
        "    if nums[i]>nums[i-1]:\n",
        "        n+=1\n",
        "print(n)"
      ],
      "metadata": {
        "colab": {
          "base_uri": "https://localhost:8080/"
        },
        "id": "I3ltISptEw9b",
        "outputId": "58e3f688-1457-48a8-a948-1e3d0bd21e68"
      },
      "execution_count": 13,
      "outputs": [
        {
          "output_type": "stream",
          "name": "stdout",
          "text": [
            "4\n"
          ]
        }
      ]
    },
    {
      "cell_type": "markdown",
      "source": [
        "Дан список чисел. Определите, сколько в этом списке элементов, которые больше двух своих соседей, и выведите количество таких элементов. Крайние элементы списка никогда не учитываются, поскольку у них недостаточно соседей.\n"
      ],
      "metadata": {
        "id": "tOAuqENwF6tS"
      }
    },
    {
      "cell_type": "code",
      "source": [
        "array = [2,5,4,1,5,2,9,18,7]\n",
        "nums=array \n",
        "n=0 \n",
        "for i in range(1,len(nums)-1):\n",
        "  if nums[i]>nums[i-1] and nums[i]>nums[i+1]:\n",
        "    n+=1\n",
        "print(n)"
      ],
      "metadata": {
        "colab": {
          "base_uri": "https://localhost:8080/"
        },
        "id": "w-fz-gK5GDgB",
        "outputId": "5c1e8ecf-6d73-4bec-dbfe-abba15aee450"
      },
      "execution_count": 20,
      "outputs": [
        {
          "output_type": "stream",
          "name": "stdout",
          "text": [
            "3\n"
          ]
        }
      ]
    },
    {
      "cell_type": "markdown",
      "source": [
        "Петя перешёл в другую школу. На уроке физкультуры ему понадобилось определить своё место в строю. Помогите ему это сделать. Программа получает на вход невозрастающую последовательность натуральных чисел, означающих рост каждого человека в строю. После этого вводится число X – рост Пети. Все числа во входных данных натуральные и не превышают 200. Выведите номер, под которым Петя должен встать в строй. Если в строю есть люди с одинаковым ростом, таким же, как у Пети, то он должен встать после них.\n"
      ],
      "metadata": {
        "id": "Nc00n3dXHg9j"
      }
    },
    {
      "cell_type": "code",
      "source": [
        "array = [200,195,190,185,180,170,160]\n",
        "nums = array \n",
        "n = 0 \n",
        "x = int(input()) #рост Пети\n",
        "for i in range(1,len(nums)):\n",
        "   if (x<nums[i] and x>nums[i+1]) or x==nums[i]:\n",
        "     n = i+1\n",
        "     print (n)\n",
        "\n",
        "    "
      ],
      "metadata": {
        "colab": {
          "base_uri": "https://localhost:8080/"
        },
        "id": "-wtqM_MKIRA2",
        "outputId": "fcebf661-9e47-46f3-ec3e-c128d0452d21"
      },
      "execution_count": 29,
      "outputs": [
        {
          "output_type": "stream",
          "name": "stdout",
          "text": [
            "180\n",
            "5\n"
          ]
        }
      ]
    },
    {
      "cell_type": "markdown",
      "source": [
        "Дан список, упорядоченный по неубыванию элементов в нем. Определите, сколько в нем различных элементов.\n"
      ],
      "metadata": {
        "id": "1nQa-j8eKu_G"
      }
    },
    {
      "cell_type": "code",
      "source": [
        "array = [1,2,2,2,2,3,3,4,5,5,5]\n",
        "nums = array \n",
        "n = 1\n",
        "for i in range(1,len(nums)):\n",
        "  if nums[i]!=nums[i-1]:\n",
        "   n+=1\n",
        "print(n)\n",
        " "
      ],
      "metadata": {
        "colab": {
          "base_uri": "https://localhost:8080/"
        },
        "id": "-VMP0h-OUgJQ",
        "outputId": "559a17c8-59c1-4530-cced-276f77d43100"
      },
      "execution_count": 53,
      "outputs": [
        {
          "output_type": "stream",
          "name": "stdout",
          "text": [
            "5\n"
          ]
        }
      ]
    },
    {
      "cell_type": "markdown",
      "source": [
        "Дан список чисел. Выведите значение наибольшего элемента в списке, а затем индекс этого элемента в списке. Если наибольших элементов несколько, выведите индекс первого из них."
      ],
      "metadata": {
        "id": "hr1xuqaTXk9N"
      }
    },
    {
      "cell_type": "code",
      "source": [
        "array = [1,2,3,4,5,6,7,8,9]\n",
        "nums = array\n",
        "n = 0\n",
        "b = 1\n",
        "for i in range(len(nums)):\n",
        "    if n<nums[i]:\n",
        "        n=nums[i]\n",
        "        b=i+1\n",
        "print(n,b)\n",
        "    "
      ],
      "metadata": {
        "colab": {
          "base_uri": "https://localhost:8080/"
        },
        "id": "-fZj4AmZXoFr",
        "outputId": "433131ca-4c8f-4698-ef0b-d7194cf12bbc"
      },
      "execution_count": 75,
      "outputs": [
        {
          "output_type": "stream",
          "name": "stdout",
          "text": [
            "9 9\n"
          ]
        }
      ]
    },
    {
      "cell_type": "markdown",
      "source": [
        "Последовательность состоит из натуральных чисел и завершается числом 0. Определите, сколько элементов этой последовательности равны ее наибольшему элементу.\n"
      ],
      "metadata": {
        "id": "RbS6UeLnaqiV"
      }
    },
    {
      "cell_type": "code",
      "source": [
        "array = [33,44,55,66,66,77,77]\n",
        "nums = array\n",
        "n = 0\n",
        "m = 0\n",
        "for i in range(len(nums)):\n",
        "    if n<nums[i]:\n",
        "        n=nums[i]\n",
        "for i in range(len(nums)):\n",
        "    if n == nums[i]:\n",
        "        m+=1\n",
        "print(n,m)"
      ],
      "metadata": {
        "colab": {
          "base_uri": "https://localhost:8080/"
        },
        "id": "InZQfiqHaula",
        "outputId": "26fd851b-69bc-4ea8-ffc7-709fccc77dcd"
      },
      "execution_count": 82,
      "outputs": [
        {
          "output_type": "stream",
          "name": "stdout",
          "text": [
            "77 2\n"
          ]
        }
      ]
    },
    {
      "cell_type": "markdown",
      "source": [
        "Дана последовательность натуральных чисел, завершающаяся числом 0. Определите, какое наибольшее число подряд идущих элементов этой последовательности равны друг другу.\n"
      ],
      "metadata": {
        "id": "1x4I2AhbbwQk"
      }
    },
    {
      "cell_type": "code",
      "source": [
        "array = [1,1,0,4,2,3,4,4]\n",
        "nums = array \n",
        "n = 0\n",
        "for i in range(len(nums)):\n",
        "    if nums[i] == nums[i-1]:\n",
        "      n+=1\n",
        "print(n)"
      ],
      "metadata": {
        "colab": {
          "base_uri": "https://localhost:8080/"
        },
        "id": "Vg3LXmKCb1rV",
        "outputId": "33bd0dbe-107f-4dcd-89aa-c3ad09c32f6a"
      },
      "execution_count": 94,
      "outputs": [
        {
          "output_type": "stream",
          "name": "stdout",
          "text": [
            "2\n"
          ]
        }
      ]
    },
    {
      "cell_type": "markdown",
      "source": [
        "Даны два списка с числами, получить третий путем поэлементного сложения первых двух.\n"
      ],
      "metadata": {
        "id": "Rkx0BT26cj4M"
      }
    },
    {
      "cell_type": "code",
      "source": [
        "array1 = [1,2,3,4,5,6,7,8,9,0]\n",
        "array2 = [0,9,8,7,6,5,4,3,2,1]\n",
        "nums1 = array1\n",
        "nums2 = array2\n",
        "nums3 = []\n",
        "for i in range(len(nums1)):\n",
        "   nums3.append(nums1[i]+nums2[i])\n",
        "print(nums3)"
      ],
      "metadata": {
        "colab": {
          "base_uri": "https://localhost:8080/"
        },
        "id": "aayf8kkecnyr",
        "outputId": "546c013b-3cba-49f6-9da9-944291d075b4"
      },
      "execution_count": 88,
      "outputs": [
        {
          "output_type": "stream",
          "name": "stdout",
          "text": [
            "[1, 11, 11, 11, 11, 11, 11, 11, 11, 1]\n"
          ]
        }
      ]
    },
    {
      "cell_type": "markdown",
      "source": [
        "Даные два вектора (списка), вычислить скалярное произведение\n"
      ],
      "metadata": {
        "id": "MQ7RAp4udsm5"
      }
    },
    {
      "cell_type": "code",
      "source": [
        "array4 = [1,2,3] #первый вектор\n",
        "array5 = [3,2,1] #второй вектор\n",
        "nums4 = array4\n",
        "nums5 = array5\n",
        "nums6 = []\n",
        "for i in range(len(nums4)):\n",
        "    nums6.append(nums4[i]*nums5[i])\n",
        "print(nums6)"
      ],
      "metadata": {
        "colab": {
          "base_uri": "https://localhost:8080/"
        },
        "id": "qPMXcATkdvFo",
        "outputId": "9c1eccba-2607-4df2-df45-e18f949c7691"
      },
      "execution_count": 92,
      "outputs": [
        {
          "output_type": "stream",
          "name": "stdout",
          "text": [
            "[3, 4, 3]\n"
          ]
        }
      ]
    }
  ]
}