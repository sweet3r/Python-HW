{
  "nbformat": 4,
  "nbformat_minor": 0,
  "metadata": {
    "colab": {
      "name": "Untitled0.ipynb",
      "provenance": [],
      "collapsed_sections": []
    },
    "kernelspec": {
      "name": "python3",
      "display_name": "Python 3"
    },
    "language_info": {
      "name": "python"
    }
  },
  "cells": [
    {
      "cell_type": "markdown",
      "source": [
        "Задание 1.\n",
        "\n",
        "Поменяйте местами значения двух переменных\n"
      ],
      "metadata": {
        "id": "y3MoQQ1-Ze4y"
      }
    },
    {
      "cell_type": "code",
      "source": [
        "print (\"Введи два числа, чтоб поменять\")\n",
        "a=int(input())\n",
        "b=int(input())\n",
        "c=a\n",
        "d=b\n",
        "print (d)\n",
        "print (c) "
      ],
      "metadata": {
        "colab": {
          "base_uri": "https://localhost:8080/"
        },
        "id": "GcIOkrbCO_tt",
        "outputId": "d8b556fc-0322-4792-ad96-9d52ba30b94b"
      },
      "execution_count": 1,
      "outputs": [
        {
          "output_type": "stream",
          "name": "stdout",
          "text": [
            "Введи два числа, чтоб поменять\n",
            "10\n",
            "3\n",
            "3\n",
            "10\n"
          ]
        }
      ]
    },
    {
      "cell_type": "markdown",
      "source": [
        "Задание 2.\n",
        "\n",
        "Дано трехзначное число. Найдите произведение их цифр\n"
      ],
      "metadata": {
        "id": "RmoEQUgCPMS1"
      }
    },
    {
      "cell_type": "code",
      "source": [
        "print (\"Введите трехзначное число\")\n",
        "a=int(input())\n",
        "b=a//100\n",
        "c=a%10\n",
        "d=(a-100*b-c)/10\n",
        "x=b*c*d\n",
        "print (x)"
      ],
      "metadata": {
        "colab": {
          "base_uri": "https://localhost:8080/"
        },
        "id": "GiRytm4ePWDU",
        "outputId": "f2a1eb9e-0b54-42fd-c38c-32e570aaac51"
      },
      "execution_count": 2,
      "outputs": [
        {
          "output_type": "stream",
          "name": "stdout",
          "text": [
            "Введите трехзначное число\n",
            "435\n",
            "60.0\n"
          ]
        }
      ]
    },
    {
      "cell_type": "markdown",
      "source": [
        "Задание 3.\n",
        "\n",
        "Даны два трехзначных числа. Найдите шестизначное число, образованное из двух данных чисел путем дописывания второго числа к первому справа."
      ],
      "metadata": {
        "id": "RW9tTA4YPtQv"
      }
    },
    {
      "cell_type": "code",
      "source": [
        "print ('ведите два трехзначных числа')\n",
        "a=int(input())\n",
        "b=int(input())\n",
        "c=1000*a+b\n",
        "print (c)\n"
      ],
      "metadata": {
        "colab": {
          "base_uri": "https://localhost:8080/"
        },
        "id": "SRGpn0k7PyGb",
        "outputId": "05ae74d1-bee3-4a66-83e5-e1ec6faaa910"
      },
      "execution_count": 3,
      "outputs": [
        {
          "output_type": "stream",
          "name": "stdout",
          "text": [
            "ведите два трехзначных числа\n",
            "356\n",
            "123\n",
            "356123\n"
          ]
        }
      ]
    },
    {
      "cell_type": "markdown",
      "source": [
        "Задание 4.\n",
        "\n",
        "\n",
        "Дано трехзначное число. Замените среднюю цифру на ноль."
      ],
      "metadata": {
        "id": "qJ0YSKb0QB9h"
      }
    },
    {
      "cell_type": "code",
      "source": [
        "print (\"Введите трехзначное число\")\n",
        "a=int(input())\n",
        "b=a//100\n",
        "c=a%10\n",
        "x=100*b+c\n",
        "print (x)\n"
      ],
      "metadata": {
        "colab": {
          "base_uri": "https://localhost:8080/"
        },
        "id": "1Z1DtNoDQKSb",
        "outputId": "52f3ea88-78c8-4e51-948f-18c004324f11"
      },
      "execution_count": 4,
      "outputs": [
        {
          "output_type": "stream",
          "name": "stdout",
          "text": [
            "Введите трехзначное число\n",
            "245\n",
            "205\n"
          ]
        }
      ]
    },
    {
      "cell_type": "markdown",
      "source": [
        "Задание 5. \n",
        "\n",
        "Дано трехзначное число. Выведите на экран новое число, полученное из исходного путем перестановки цифр в обратном порядке."
      ],
      "metadata": {
        "id": "7rcw0UbkQQeh"
      }
    },
    {
      "cell_type": "code",
      "source": [
        "print (\"Введите трехзначное число\")\n",
        "a=int(input())\n",
        "b=a//100\n",
        "c=a%10\n",
        "d=(a-100*b-c)/10\n",
        "x=100*c+b+10*d\n",
        "print (x)"
      ],
      "metadata": {
        "colab": {
          "base_uri": "https://localhost:8080/"
        },
        "id": "6rgDMZzHQU5f",
        "outputId": "a4de6c22-c3c5-49e8-d257-52fb0888bd71"
      },
      "execution_count": 5,
      "outputs": [
        {
          "output_type": "stream",
          "name": "stdout",
          "text": [
            "Введите трехзначное число\n",
            "123\n",
            "321.0\n"
          ]
        }
      ]
    }
  ]
}