{
  "nbformat": 4,
  "nbformat_minor": 0,
  "metadata": {
    "colab": {
      "name": "Untitled0.ipynb",
      "provenance": [],
      "collapsed_sections": []
    },
    "kernelspec": {
      "name": "python3",
      "display_name": "Python 3"
    },
    "language_info": {
      "name": "python"
    }
  },
  "cells": [
    {
      "cell_type": "markdown",
      "source": [
        ""
      ],
      "metadata": {
        "id": "_ZV8r9pPITTo"
      }
    },
    {
      "cell_type": "markdown",
      "source": [
        "Самостоятельная работа № 3(4 и 5 задания) \n",
        "\n"
      ],
      "metadata": {
        "id": "sA8zxvoaGI9w"
      }
    },
    {
      "cell_type": "markdown",
      "source": [
        "Задание 4.\n",
        "\n",
        "Напишите программу, в которой задается натуральное число n и выводится пирамида из n ступенек, i-я ступень должна состоять из чисел от 1 до i и обратно без пробелов."
      ],
      "metadata": {
        "id": "9CLFG0-ZPlXV"
      }
    },
    {
      "cell_type": "code",
      "source": [
        "n = int(input()) + 1\n",
        "for i in range(1, n + 1):\n",
        "    print(' ' * (n - i), end='')\n",
        "    print(*range(1, i), *range(1, i - 1)[::-1], sep='')"
      ],
      "metadata": {
        "id": "gdC5tbuNPnXc"
      },
      "execution_count": null,
      "outputs": []
    },
    {
      "cell_type": "markdown",
      "source": [
        "Задание 5.\n",
        "\n",
        "Напишите программу, в которой задается натуральное число n и выводится ромб из n*2-1 ступенек, i-я ступень должна состоять из чисел от 1 до i и обратно без пробелов."
      ],
      "metadata": {
        "id": "GTxu3LK9PrYr"
      }
    },
    {
      "cell_type": "code",
      "source": [
        "n = int(input())\n",
        "for i in range(n*2-1):\n",
        "    print(' '*abs(n-i-1), end='')\n",
        "    for j in range(2*(n-abs(n-i-1))-1):\n",
        "        print(min(j+1, min(n*2-i-1, i+1)*2-j-1), end='')\n",
        "    print()"
      ],
      "metadata": {
        "colab": {
          "base_uri": "https://localhost:8080/"
        },
        "id": "q-ApsOyVPvKZ",
        "outputId": "870700aa-4b4a-437c-d9f3-8667ebb55b0b"
      },
      "execution_count": 16,
      "outputs": [
        {
          "output_type": "stream",
          "name": "stdout",
          "text": [
            "3\n",
            "  1\n",
            " 121\n",
            "12321\n",
            " 121\n",
            "  1\n"
          ]
        }
      ]
    }
  ]
}