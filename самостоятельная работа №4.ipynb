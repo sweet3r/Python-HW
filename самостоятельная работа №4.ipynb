{
  "nbformat": 4,
  "nbformat_minor": 0,
  "metadata": {
    "colab": {
      "name": "Untitled0.ipynb",
      "provenance": [],
      "collapsed_sections": []
    },
    "kernelspec": {
      "name": "python3",
      "display_name": "Python 3"
    },
    "language_info": {
      "name": "python"
    }
  },
  "cells": [
    {
      "cell_type": "markdown",
      "source": [
        "Самостоятельное задание №4"
      ],
      "metadata": {
        "id": "pKIW92IcSWam"
      }
    },
    {
      "cell_type": "markdown",
      "source": [
        "Дана строка: Lambdadambda\n",
        "\n",
        "Вывести третий символ этой строки.\n"
      ],
      "metadata": {
        "id": "54slsuxOSYuY"
      }
    },
    {
      "cell_type": "code",
      "source": [
        "row= \"Lambdadambda\"\n",
        "print (row[2])"
      ],
      "metadata": {
        "colab": {
          "base_uri": "https://localhost:8080/"
        },
        "id": "WkLy5e_cSbkU",
        "outputId": "2d5f93d2-1837-4103-b016-c0dad5a887ab"
      },
      "execution_count": 17,
      "outputs": [
        {
          "output_type": "stream",
          "name": "stdout",
          "text": [
            "m\n"
          ]
        }
      ]
    },
    {
      "cell_type": "markdown",
      "source": [
        "Вывести предпоследний символ этой строки."
      ],
      "metadata": {
        "id": "-rNYh94dSn8M"
      }
    },
    {
      "cell_type": "code",
      "source": [
        "print (row[len(row)-2])"
      ],
      "metadata": {
        "colab": {
          "base_uri": "https://localhost:8080/"
        },
        "id": "L5cgYn9aSqdf",
        "outputId": "27ab1fbf-0bbb-4ed1-ff4d-2be71a1abaff"
      },
      "execution_count": 18,
      "outputs": [
        {
          "output_type": "stream",
          "name": "stdout",
          "text": [
            "d\n"
          ]
        }
      ]
    },
    {
      "cell_type": "markdown",
      "source": [
        "Вывести первые пять символов этой строки."
      ],
      "metadata": {
        "id": "uf5wrSSLSxEM"
      }
    },
    {
      "cell_type": "code",
      "source": [
        "for i in range (5):\n",
        "    print (row[i])"
      ],
      "metadata": {
        "colab": {
          "base_uri": "https://localhost:8080/"
        },
        "id": "9co8RcCKS08a",
        "outputId": "20a54eab-d857-4f9e-be44-0589dd65dd18"
      },
      "execution_count": 19,
      "outputs": [
        {
          "output_type": "stream",
          "name": "stdout",
          "text": [
            "L\n",
            "a\n",
            "m\n",
            "b\n",
            "d\n"
          ]
        }
      ]
    },
    {
      "cell_type": "markdown",
      "source": [
        "Вывести строку, кроме последних двух символов."
      ],
      "metadata": {
        "id": "924qDPmCS3vn"
      }
    },
    {
      "cell_type": "code",
      "source": [
        "for i in range (len(row)-2):\n",
        "    print(row[i])"
      ],
      "metadata": {
        "colab": {
          "base_uri": "https://localhost:8080/"
        },
        "id": "0N995_I-S5qI",
        "outputId": "aba71b06-dc45-48e7-fcb8-e9b3b4218185"
      },
      "execution_count": 21,
      "outputs": [
        {
          "output_type": "stream",
          "name": "stdout",
          "text": [
            "L\n",
            "a\n",
            "m\n",
            "b\n",
            "d\n",
            "a\n",
            "d\n",
            "a\n",
            "m\n",
            "b\n"
          ]
        }
      ]
    },
    {
      "cell_type": "markdown",
      "source": [
        "Вывести все символы с четными индексами (считайте, что 0 - четный индекс)."
      ],
      "metadata": {
        "id": "18azPOHPTZRN"
      }
    },
    {
      "cell_type": "code",
      "source": [
        "for i in range(len(row)):\n",
        "    if i%2==0:\n",
        "        print(row[i])"
      ],
      "metadata": {
        "colab": {
          "base_uri": "https://localhost:8080/"
        },
        "id": "DWt43nG9TvI8",
        "outputId": "e8e27052-bbe1-4ce9-f56a-fb3fbe72b6ce"
      },
      "execution_count": 22,
      "outputs": [
        {
          "output_type": "stream",
          "name": "stdout",
          "text": [
            "L\n",
            "m\n",
            "d\n",
            "d\n",
            "m\n",
            "d\n"
          ]
        }
      ]
    },
    {
      "cell_type": "markdown",
      "source": [
        "Вывести все символы с нечетными индексами.\n"
      ],
      "metadata": {
        "id": "rhpbZcG7UZMv"
      }
    },
    {
      "cell_type": "code",
      "source": [
        "for i in range(len(row)):\n",
        "    if i%2==1:\n",
        "        print(row[i])"
      ],
      "metadata": {
        "colab": {
          "base_uri": "https://localhost:8080/"
        },
        "id": "JN6IBInIUe_V",
        "outputId": "3728b389-a386-40b8-dc62-0d86ec5f2401"
      },
      "execution_count": 23,
      "outputs": [
        {
          "output_type": "stream",
          "name": "stdout",
          "text": [
            "a\n",
            "b\n",
            "a\n",
            "a\n",
            "b\n",
            "a\n"
          ]
        }
      ]
    },
    {
      "cell_type": "markdown",
      "source": [
        "Вывести все символы в обратном порядке."
      ],
      "metadata": {
        "id": "vRIpGgv5UjRg"
      }
    },
    {
      "cell_type": "code",
      "source": [
        "for i in range (len(row)-1,-1,-1):\n",
        "    print(row[i])"
      ],
      "metadata": {
        "colab": {
          "base_uri": "https://localhost:8080/"
        },
        "id": "fGZUcAH-UwDx",
        "outputId": "1064d04f-98cc-47c0-8d33-b8d8664fde9b"
      },
      "execution_count": 24,
      "outputs": [
        {
          "output_type": "stream",
          "name": "stdout",
          "text": [
            "a\n",
            "d\n",
            "b\n",
            "m\n",
            "a\n",
            "d\n",
            "a\n",
            "d\n",
            "b\n",
            "m\n",
            "a\n",
            "L\n"
          ]
        }
      ]
    },
    {
      "cell_type": "markdown",
      "source": [
        "Вывести все символы строки через один в обратном порядке, начиная с последнего."
      ],
      "metadata": {
        "id": "o7IwDMAyU0lZ"
      }
    },
    {
      "cell_type": "code",
      "source": [
        "row= \"Lambdadambda\"\n",
        "for i in range (len(row)-1, -1, -1):\n",
        "    if i%2 ==1:\n",
        "        print(row[i])\n",
        "for i in range (len(row)-1, -1, -1):\n",
        "    if i%2 ==0:\n",
        "        print(row[i])"
      ],
      "metadata": {
        "colab": {
          "base_uri": "https://localhost:8080/"
        },
        "id": "HK7cSNEXU1Ge",
        "outputId": "1a792a78-2eb3-46a7-a5fb-a1c29dd3a81f"
      },
      "execution_count": 25,
      "outputs": [
        {
          "output_type": "stream",
          "name": "stdout",
          "text": [
            "a\n",
            "b\n",
            "a\n",
            "a\n",
            "b\n",
            "a\n",
            "d\n",
            "m\n",
            "d\n",
            "d\n",
            "m\n",
            "L\n"
          ]
        }
      ]
    },
    {
      "cell_type": "markdown",
      "source": [
        "Вывести длину данной строки."
      ],
      "metadata": {
        "id": "sNy9gCKMU4gm"
      }
    },
    {
      "cell_type": "code",
      "source": [
        "print(len(row))"
      ],
      "metadata": {
        "colab": {
          "base_uri": "https://localhost:8080/"
        },
        "id": "E1kXORzoU7Ow",
        "outputId": "925bcd3d-3ec5-4574-d3e1-373d112b19af"
      },
      "execution_count": 26,
      "outputs": [
        {
          "output_type": "stream",
          "name": "stdout",
          "text": [
            "12\n"
          ]
        }
      ]
    }
  ]
}