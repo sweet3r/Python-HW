{
  "nbformat": 4,
  "nbformat_minor": 0,
  "metadata": {
    "colab": {
      "name": "Untitled0.ipynb",
      "provenance": [],
      "collapsed_sections": []
    },
    "kernelspec": {
      "name": "python3",
      "display_name": "Python 3"
    },
    "language_info": {
      "name": "python"
    }
  },
  "cells": [
    {
      "cell_type": "markdown",
      "source": [
        "Самостоятельное задание №6\n"
      ],
      "metadata": {
        "id": "pKIW92IcSWam"
      }
    },
    {
      "cell_type": "markdown",
      "source": [
        "Задание 1.\n",
        "\n",
        "Допишите функцию, которая принимает несколько параметров. Первый параметр - словарь, второй параметр - один из ключей данного словаря. Функция должна выводить значение этого ключа."
      ],
      "metadata": {
        "id": "5-4GCvBGWuU7"
      }
    },
    {
      "cell_type": "code",
      "source": [
        "уолько чисел в словаре: '))\n",
        "b={}\n",
        "for i in range(a):\n",
        "    c=str(input('Введите ключ: '))\n",
        "    q=str(input('Введите значение: '))\n",
        "    b[c]=q\n",
        "d=str(input('Введите ключ: '))\n",
        "print('Значение ключа: '+str(b[d]))"
      ],
      "metadata": {
        "colab": {
          "base_uri": "https://localhost:8080/"
        },
        "id": "G1Kk9w4fW0Qv",
        "outputId": "fb492fab-6a96-44b2-d2aa-86c93b508330"
      },
      "execution_count": 37,
      "outputs": [
        {
          "output_type": "stream",
          "name": "stdout",
          "text": [
            "сколько чисел в словаре: 7\n",
            "Введите ключ: 1\n",
            "Введите значение: Штирлец\n",
            "Введите ключ: 2\n",
            "Введите значение: топил\n",
            "Введите ключ: 3\n",
            "Введите значение: печку\n",
            "Введите ключ: 4\n",
            "Введите значение: через \n",
            "Введите ключ: 5\n",
            "Введите значение: час\n",
            "Введите ключ: 6\n",
            "Введите значение: она\n",
            "Введите ключ: 7\n",
            "Введите значение: утонула\n",
            "Введите ключ: 7\n",
            "Значение ключа: утонула\n"
          ]
        }
      ]
    }
  ]
}