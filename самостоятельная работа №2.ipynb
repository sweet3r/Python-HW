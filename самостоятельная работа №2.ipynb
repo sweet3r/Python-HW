{
  "nbformat": 4,
  "nbformat_minor": 0,
  "metadata": {
    "colab": {
      "name": "Untitled0.ipynb",
      "provenance": [],
      "collapsed_sections": []
    },
    "kernelspec": {
      "name": "python3",
      "display_name": "Python 3"
    },
    "language_info": {
      "name": "python"
    }
  },
  "cells": [
    {
      "cell_type": "markdown",
      "source": [
        ""
      ],
      "metadata": {
        "id": "_ZV8r9pPITTo"
      }
    },
    {
      "cell_type": "markdown",
      "source": [
        "Самостоятельная работа № 2\n"
      ],
      "metadata": {
        "id": "sA8zxvoaGI9w"
      }
    },
    {
      "cell_type": "markdown",
      "source": [
        "Задание 1.\n",
        "\n",
        "Допишите функцию, которая принимает 2 числа, сравнивает между собой и возвращает наименьшее.\n"
      ],
      "metadata": {
        "id": "MFY_MYipIT2d"
      }
    },
    {
      "cell_type": "code",
      "source": [
        "a = int(input())\n",
        "b= int(input())\n",
        "if a > b:\n",
        "    print(b)\n",
        "else:\n",
        "    print(a)"
      ],
      "metadata": {
        "colab": {
          "base_uri": "https://localhost:8080/"
        },
        "id": "fsKjjRG4IFmc",
        "outputId": "a5f0c8fd-db3f-438c-d4a8-3f3f9cdbe458"
      },
      "execution_count": 10,
      "outputs": [
        {
          "output_type": "stream",
          "name": "stdout",
          "text": [
            "2\n",
            "5\n",
            "2\n"
          ]
        }
      ]
    },
    {
      "cell_type": "markdown",
      "source": [
        "Задание 2.\n",
        "\n",
        "Допишите функцию, которая принимает 3 числа, сравнивает между собой и возвращает наименьшее."
      ],
      "metadata": {
        "id": "qgm8yyX3LZBM"
      }
    },
    {
      "cell_type": "code",
      "source": [
        "a = int(input())\n",
        "b = int(input())\n",
        "c = int(input())\n",
        "m = 0\n",
        "if a > b:\n",
        "    m =b\n",
        "else:\n",
        "    m = a\n",
        "if c > m:\n",
        "    print(m)\n",
        "else:\n",
        "    print(c)"
      ],
      "metadata": {
        "colab": {
          "base_uri": "https://localhost:8080/"
        },
        "id": "tsPD7gNtLbfA",
        "outputId": "dc475320-04c3-4dcc-ac15-512976d75223"
      },
      "execution_count": 12,
      "outputs": [
        {
          "output_type": "stream",
          "name": "stdout",
          "text": [
            "5\n",
            "7\n",
            "9\n",
            "5\n"
          ]
        }
      ]
    },
    {
      "cell_type": "markdown",
      "source": [
        "Задание 2.\n",
        "\n",
        "Допишите функцию, которая принимает 3 числа, сравнивает между собой и возвращает количество совпадающих чисел. Соответственно, программа может возвращать одно из трех чисел: 3 - если совпадают все, 2 - если совпадают 2 числа, 0 - если все числа различны."
      ],
      "metadata": {
        "id": "xAnw0kPnLvWS"
      }
    },
    {
      "cell_type": "code",
      "source": [
        "a = int(input())\n",
        "b = int(input())\n",
        "c = int(input())\n",
        "if a == b == c:\n",
        "    print(3)\n",
        "elif a == b and a != c:\n",
        "    print(2)\n",
        "elif a == c and a != b:\n",
        "    print(2)\n",
        "elif b == c and b != a:\n",
        "    print(2)\n",
        "else:\n",
        "    print(0)\n"
      ],
      "metadata": {
        "colab": {
          "base_uri": "https://localhost:8080/"
        },
        "id": "PVQKaeMYLyF2",
        "outputId": "e9ce70e7-7c63-4744-d1a1-30e003a07e4d"
      },
      "execution_count": 15,
      "outputs": [
        {
          "output_type": "stream",
          "name": "stdout",
          "text": [
            "2\n",
            "3\n",
            "4\n",
            "0\n"
          ]
        }
      ]
    }
  ]
}