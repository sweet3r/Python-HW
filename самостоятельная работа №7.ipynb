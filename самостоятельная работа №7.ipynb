{
  "nbformat": 4,
  "nbformat_minor": 0,
  "metadata": {
    "colab": {
      "name": "Untitled0.ipynb",
      "provenance": [],
      "collapsed_sections": []
    },
    "kernelspec": {
      "name": "python3",
      "display_name": "Python 3"
    },
    "language_info": {
      "name": "python"
    }
  },
  "cells": [
    {
      "cell_type": "markdown",
      "source": [
        "Самостоятельное задание №7\n"
      ],
      "metadata": {
        "id": "pKIW92IcSWam"
      }
    },
    {
      "cell_type": "markdown",
      "source": [
        "Задание 1.\n",
        "\n",
        "Допишите функцию, которая принимает список чисел и, с помощью множеств, определяет количество различных чисел внутри списка."
      ],
      "metadata": {
        "id": "y3MoQQ1-Ze4y"
      }
    },
    {
      "cell_type": "code",
      "source": [
        "print(len(set(input(\"Введите числа через пробел:\").split())))\n"
      ],
      "metadata": {
        "colab": {
          "base_uri": "https://localhost:8080/"
        },
        "id": "TwRKNZLSZkKN",
        "outputId": "a8c39ab8-5294-49fd-941c-1d586b5bf62c"
      },
      "execution_count": 38,
      "outputs": [
        {
          "output_type": "stream",
          "name": "stdout",
          "text": [
            "Введите числа через пробел:5 6 7 8 1 \n",
            "5\n"
          ]
        }
      ]
    },
    {
      "cell_type": "markdown",
      "source": [
        "Задание 2.\n",
        "\n",
        "Допишите функцию, которая принимает несколько списков чисел и, с помощью множеств, определяет количество общих чисел из первого и второго списка."
      ],
      "metadata": {
        "id": "-zxhADKkZve_"
      }
    },
    {
      "cell_type": "code",
      "source": [
        "def pup(c,b):\n",
        "    d = list(set(c) & set(b))\n",
        "    return d\n",
        "\n",
        "c = [1,2,3,4,5,6]\n",
        "b = [2,4,6,8]\n",
        "print(pup(c,b))"
      ],
      "metadata": {
        "colab": {
          "base_uri": "https://localhost:8080/"
        },
        "id": "AQaRsv7jZ0sR",
        "outputId": "532c95aa-a4ac-4e85-eb9a-f96f89cbd995"
      },
      "execution_count": 39,
      "outputs": [
        {
          "output_type": "stream",
          "name": "stdout",
          "text": [
            "[2, 4, 6]\n"
          ]
        }
      ]
    }
  ]
}