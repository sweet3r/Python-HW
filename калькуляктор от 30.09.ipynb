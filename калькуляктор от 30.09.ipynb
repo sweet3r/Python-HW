{
  "nbformat": 4,
  "nbformat_minor": 0,
  "metadata": {
    "colab": {
      "name": "Untitled0.ipynb",
      "provenance": [],
      "collapsed_sections": []
    },
    "kernelspec": {
      "name": "python3",
      "display_name": "Python 3"
    },
    "language_info": {
      "name": "python"
    }
  },
  "cells": [
    {
      "cell_type": "markdown",
      "source": [
        "калькуляктор:\n",
        "Написать приложение-калькулятор, которое:\n",
        "- из командной строки считывает два числа и операцию (+, -, *, /)\n",
        "- применяет эту операцию к числам\n",
        "- выводит результат\n"
      ],
      "metadata": {
        "id": "a7FpC_4NgzcT"
      }
    },
    {
      "cell_type": "code",
      "source": [
        "n = int(input())\n",
        "m = int(input())\n",
        "z = input()\n",
        "if z == '+': \n",
        "  e = n + m \n",
        "elif z == '-':\n",
        "  e = n - m\n",
        "elif z == '*':\n",
        "  e = n * m \n",
        "elif z == '/':\n",
        "  e = n / m\n",
        "print(e)\n"
      ],
      "metadata": {
        "colab": {
          "base_uri": "https://localhost:8080/"
        },
        "id": "KHdkmjfBg5OF",
        "outputId": "502def86-8045-43a4-ae00-86b51d3aad4c"
      },
      "execution_count": 96,
      "outputs": [
        {
          "output_type": "stream",
          "name": "stdout",
          "text": [
            "2\n",
            "2\n",
            "-\n",
            "0\n"
          ]
        }
      ]
    }
  ]
}